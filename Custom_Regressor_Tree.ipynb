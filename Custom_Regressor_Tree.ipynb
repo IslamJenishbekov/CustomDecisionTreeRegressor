{
  "cells": [
    {
      "cell_type": "markdown",
      "metadata": {
        "id": "view-in-github",
        "colab_type": "text"
      },
      "source": [
        "<a href=\"https://colab.research.google.com/github/IslamJenishbekov/CustomDecisionTreeRegressor/blob/main/Custom_Regressor_Tree.ipynb\" target=\"_parent\"><img src=\"https://colab.research.google.com/assets/colab-badge.svg\" alt=\"Open In Colab\"/></a>"
      ]
    },
    {
      "cell_type": "code",
      "execution_count": 14,
      "metadata": {
        "id": "LABpW3O1zBa0"
      },
      "outputs": [],
      "source": [
        "import pandas as pd\n",
        "import numpy as np\n",
        "import matplotlib.pyplot as plt\n",
        "import seaborn as sns"
      ]
    },
    {
      "cell_type": "code",
      "execution_count": 15,
      "metadata": {
        "colab": {
          "base_uri": "https://localhost:8080/"
        },
        "id": "5MiZdFFCzf79",
        "outputId": "ca6f6a8f-6529-4e18-818c-db2c6a9cdb19"
      },
      "outputs": [
        {
          "output_type": "stream",
          "name": "stdout",
          "text": [
            "<class 'pandas.core.frame.DataFrame'>\n",
            "Index: 1000 entries, 32683 to 14741\n",
            "Data columns (total 10 columns):\n",
            " #   Column   Non-Null Count  Dtype   \n",
            "---  ------   --------------  -----   \n",
            " 0   carat    1000 non-null   float64 \n",
            " 1   cut      1000 non-null   category\n",
            " 2   color    1000 non-null   category\n",
            " 3   clarity  1000 non-null   category\n",
            " 4   depth    1000 non-null   float64 \n",
            " 5   table    1000 non-null   float64 \n",
            " 6   price    1000 non-null   int64   \n",
            " 7   x        1000 non-null   float64 \n",
            " 8   y        1000 non-null   float64 \n",
            " 9   z        1000 non-null   float64 \n",
            "dtypes: category(3), float64(6), int64(1)\n",
            "memory usage: 66.3 KB\n"
          ]
        }
      ],
      "source": [
        "data = sns.load_dataset('diamonds').sample(1000)\n",
        "data.info()"
      ]
    },
    {
      "cell_type": "code",
      "execution_count": 16,
      "metadata": {
        "id": "b2qVEysod0Bd"
      },
      "outputs": [],
      "source": [
        "X = data[[\"table\", \"carat\", \"clarity\"]]\n",
        "y = data[\"price\"]"
      ]
    },
    {
      "cell_type": "code",
      "execution_count": 17,
      "metadata": {
        "colab": {
          "base_uri": "https://localhost:8080/"
        },
        "id": "lXPbEPN0eGSm",
        "outputId": "862c4270-0b71-4485-c7c1-d9b802e99014"
      },
      "outputs": [
        {
          "output_type": "stream",
          "name": "stdout",
          "text": [
            "<class 'pandas.core.frame.DataFrame'>\n",
            "Index: 1000 entries, 32683 to 14741\n",
            "Data columns (total 10 columns):\n",
            " #   Column        Non-Null Count  Dtype  \n",
            "---  ------        --------------  -----  \n",
            " 0   table         1000 non-null   float64\n",
            " 1   carat         1000 non-null   float64\n",
            " 2   clarity_IF    1000 non-null   bool   \n",
            " 3   clarity_VVS1  1000 non-null   bool   \n",
            " 4   clarity_VVS2  1000 non-null   bool   \n",
            " 5   clarity_VS1   1000 non-null   bool   \n",
            " 6   clarity_VS2   1000 non-null   bool   \n",
            " 7   clarity_SI1   1000 non-null   bool   \n",
            " 8   clarity_SI2   1000 non-null   bool   \n",
            " 9   clarity_I1    1000 non-null   bool   \n",
            "dtypes: bool(8), float64(2)\n",
            "memory usage: 31.2 KB\n"
          ]
        }
      ],
      "source": [
        "X = pd.get_dummies(X)\n",
        "X.info()"
      ]
    },
    {
      "cell_type": "code",
      "execution_count": 18,
      "metadata": {
        "id": "GPZHlRWEQGUZ"
      },
      "outputs": [],
      "source": [
        "#конкретный узел\n",
        "class Node:\n",
        "    def __init__(self, feature_name, threshold, current_depth, data, mse):\n",
        "        self.feature_name = feature_name\n",
        "        self.threshold = threshold\n",
        "        self.current_depth = current_depth\n",
        "        self.data = data\n",
        "        self.mse = mse\n",
        "        self.left = None\n",
        "        self.right = None\n",
        "        self.answer = None\n",
        "        self.status = None\n",
        "\n",
        "#само дерево\n",
        "class RegressorTree:\n",
        "    def __init__(self, max_depth):\n",
        "        self.max_depth = max_depth\n",
        "        self.columns = None\n",
        "        self.root = None\n",
        "\n",
        "    def fit(self, X, y):\n",
        "        X = X.copy()\n",
        "        self.columns = X.columns.tolist()\n",
        "        X['target'] = y\n",
        "\n",
        "        column, threshold, node_mse = self.split_best(X)\n",
        "\n",
        "        self.root = Node(column, threshold, 0, X, node_mse)\n",
        "        self.root.answer = X['target'].mean()\n",
        "        self.setting_nodes(self.root)\n",
        "\n",
        "    def setting_nodes(self, root):\n",
        "        column_name, threshold = root.feature_name, root.threshold\n",
        "        left_data = root.data[root.data[column_name] <= threshold]\n",
        "        right_data = root.data[root.data[column_name] > threshold]\n",
        "\n",
        "        if left_data.shape[0] > 0:\n",
        "            left_column, left_threshold, left_mse = self.split_best(left_data)\n",
        "            if left_column is not None:\n",
        "                left_node = Node(left_column, left_threshold, root.current_depth + 1, left_data, left_mse)\n",
        "                left_node.answer = left_data['target'].mean()\n",
        "                root.left = left_node\n",
        "\n",
        "                if left_node.current_depth < self.max_depth:\n",
        "                    self.setting_nodes(left_node)\n",
        "                else:\n",
        "                    left_node.status = 'leaf'\n",
        "\n",
        "            else:\n",
        "                left_node = Node(None, None, root.current_depth + 1, left_data, left_mse)\n",
        "                left_node.answer = left_data[\"target\"].mean()\n",
        "                left_node.status = 'leaf'\n",
        "                root.left = left_node\n",
        "\n",
        "        if right_data.shape[0] > 0:\n",
        "            right_column, right_threshold, right_mse = self.split_best(right_data)\n",
        "            if right_column is not None:\n",
        "                right_node = Node(right_column, right_threshold, root.current_depth + 1, right_data, right_mse)\n",
        "                right_node.answer = right_data['target'].mean()\n",
        "                root.right = right_node\n",
        "\n",
        "                if right_node.current_depth < self.max_depth:\n",
        "                    self.setting_nodes(right_node)\n",
        "                else:\n",
        "                    right_node.status = 'leaf'\n",
        "\n",
        "            else:\n",
        "                right_node = Node(None, None, root.current_depth + 1, right_data, right_mse)\n",
        "                right_node.answer = right_data[\"target\"].mean()\n",
        "                right_node.status = 'leaf'\n",
        "                root.right= right_node\n",
        "\n",
        "    def split_best(self, data):\n",
        "\n",
        "        column = None\n",
        "        threshold = None\n",
        "        node_mse = self._calculate_mse(data)\n",
        "        best_gain = 0\n",
        "\n",
        "        for feature in self.columns:\n",
        "            possible_thresholds = np.unique(data[feature]).tolist()\n",
        "            possible_thresholds = [(possible_thresholds[i] + possible_thresholds[i+1])/2 for i in range(len(possible_thresholds)-1)]\n",
        "            for t in possible_thresholds:\n",
        "                left = data[data[feature] <= t]\n",
        "                right = data[data[feature] > t]\n",
        "\n",
        "                if len(left) == 0 or len(right) == 0:\n",
        "                    continue\n",
        "\n",
        "                left_mse = self._calculate_mse(left)\n",
        "                right_mse = self._calculate_mse(right)\n",
        "                total_mse = (left_mse * len(left) + right_mse * len(right))/len(data)\n",
        "                gain =  node_mse - total_mse\n",
        "                if gain > best_gain:\n",
        "                    best_gain = gain\n",
        "                    column = feature\n",
        "                    threshold = t\n",
        "\n",
        "        return column, threshold, node_mse\n",
        "\n",
        "    def _calculate_mse(self, data):\n",
        "      target_mean = data['target'].mean()\n",
        "      return ((data['target'] - target_mean) ** 2).mean()\n",
        "\n",
        "\n",
        "    def show_tree(self):\n",
        "        print(\"ROOT: \", end=\"\\t\")\n",
        "        self._show_node(self.root)\n",
        "\n",
        "    def _show_node(self, node):\n",
        "        if node.status == \"leaf\":\n",
        "            print(f\"DEPTH: {node.current_depth} \\t return: {node.answer}\")\n",
        "        else:\n",
        "            print(f\"DEPTH: {node.current_depth} \\t {node.feature_name} <= {node.threshold} : {node.answer}\")\n",
        "        if node.left is not None:\n",
        "            print(\"Left:\", end=\"\\t\")\n",
        "            self._show_node(node.left)\n",
        "        if node.right is not None:\n",
        "            print(\"Right:\", end=\"\\t\")\n",
        "            self._show_node(node.right)\n",
        "\n",
        "    def predict(self, X):\n",
        "        predictions = []\n",
        "        for _, row in X.iterrows():\n",
        "            prediction = self.predict_single(row)\n",
        "            predictions.append(prediction)\n",
        "        return np.array(predictions)\n",
        "\n",
        "    def predict_single(self, row):\n",
        "        node = self.root\n",
        "        while node.left != None:\n",
        "            if row[node.feature_name] <= node.threshold:\n",
        "                node = node.left\n",
        "            else:\n",
        "                node = node.right\n",
        "        return node.answer\n",
        "\n"
      ]
    },
    {
      "cell_type": "code",
      "execution_count": 19,
      "metadata": {
        "id": "y4amHBjgQrsc"
      },
      "outputs": [],
      "source": [
        "tree = RegressorTree(max_depth=3)\n",
        "tree.fit(X, y)"
      ]
    },
    {
      "cell_type": "code",
      "source": [
        "y_pred = tree.predict(X)"
      ],
      "metadata": {
        "id": "xPBxaU60d56e"
      },
      "execution_count": 20,
      "outputs": []
    },
    {
      "cell_type": "code",
      "source": [
        "from sklearn.metrics import mean_absolute_percentage_error\n",
        "mean_absolute_percentage_error(y, y_pred)"
      ],
      "metadata": {
        "colab": {
          "base_uri": "https://localhost:8080/"
        },
        "id": "qXVSk7VZd9_P",
        "outputId": "473d0eb1-b9d2-4811-a926-49ee9354eaf8"
      },
      "execution_count": 21,
      "outputs": [
        {
          "output_type": "execute_result",
          "data": {
            "text/plain": [
              "0.21753500070789691"
            ]
          },
          "metadata": {},
          "execution_count": 21
        }
      ]
    }
  ],
  "metadata": {
    "colab": {
      "provenance": [],
      "authorship_tag": "ABX9TyO49zjZvn8H9ySZlfMmWxVC",
      "include_colab_link": true
    },
    "kernelspec": {
      "display_name": "Python 3",
      "name": "python3"
    },
    "language_info": {
      "name": "python"
    }
  },
  "nbformat": 4,
  "nbformat_minor": 0
}